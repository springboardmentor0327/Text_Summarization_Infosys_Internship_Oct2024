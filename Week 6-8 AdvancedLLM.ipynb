{
  "nbformat": 4,
  "nbformat_minor": 0,
  "metadata": {
    "colab": {
      "provenance": []
    },
    "kernelspec": {
      "name": "python3",
      "display_name": "Python 3"
    },
    "language_info": {
      "name": "python"
    }
  },
  "cells": [
    {
      "cell_type": "code",
      "execution_count": null,
      "metadata": {
        "colab": {
          "base_uri": "https://localhost:8080/"
        },
        "id": "e7nVGRU_ak4V",
        "outputId": "b9a96c83-1302-4623-d203-5afd8348dc3c"
      },
      "outputs": [
        {
          "output_type": "stream",
          "name": "stdout",
          "text": [
            "\u001b[2K   \u001b[90m━━━━━━━━━━━━━━━━━━━━━━━━━━━━━━━━━━━━━━━━\u001b[0m \u001b[32m57.1/57.1 MB\u001b[0m \u001b[31m14.0 MB/s\u001b[0m eta \u001b[36m0:00:00\u001b[0m\n",
            "\u001b[2K   \u001b[90m━━━━━━━━━━━━━━━━━━━━━━━━━━━━━━━━━━━━━━━━\u001b[0m \u001b[32m320.1/320.1 kB\u001b[0m \u001b[31m19.1 MB/s\u001b[0m eta \u001b[36m0:00:00\u001b[0m\n",
            "\u001b[2K   \u001b[90m━━━━━━━━━━━━━━━━━━━━━━━━━━━━━━━━━━━━━━━━\u001b[0m \u001b[32m1.0/1.0 MB\u001b[0m \u001b[31m41.1 MB/s\u001b[0m eta \u001b[36m0:00:00\u001b[0m\n",
            "\u001b[2K   \u001b[90m━━━━━━━━━━━━━━━━━━━━━━━━━━━━━━━━━━━━━━━━\u001b[0m \u001b[32m2.4/2.4 MB\u001b[0m \u001b[31m65.2 MB/s\u001b[0m eta \u001b[36m0:00:00\u001b[0m\n",
            "\u001b[2K   \u001b[90m━━━━━━━━━━━━━━━━━━━━━━━━━━━━━━━━━━━━━━━━\u001b[0m \u001b[32m298.0/298.0 kB\u001b[0m \u001b[31m18.3 MB/s\u001b[0m eta \u001b[36m0:00:00\u001b[0m\n",
            "\u001b[2K   \u001b[90m━━━━━━━━━━━━━━━━━━━━━━━━━━━━━━━━━━━━━━━━\u001b[0m \u001b[32m41.3/41.3 kB\u001b[0m \u001b[31m2.5 MB/s\u001b[0m eta \u001b[36m0:00:00\u001b[0m\n",
            "\u001b[2K   \u001b[90m━━━━━━━━━━━━━━━━━━━━━━━━━━━━━━━━━━━━━━━━\u001b[0m \u001b[32m125.1/125.1 kB\u001b[0m \u001b[31m8.1 MB/s\u001b[0m eta \u001b[36m0:00:00\u001b[0m\n",
            "\u001b[2K   \u001b[90m━━━━━━━━━━━━━━━━━━━━━━━━━━━━━━━━━━━━━━━━\u001b[0m \u001b[32m94.9/94.9 kB\u001b[0m \u001b[31m6.1 MB/s\u001b[0m eta \u001b[36m0:00:00\u001b[0m\n",
            "\u001b[2K   \u001b[90m━━━━━━━━━━━━━━━━━━━━━━━━━━━━━━━━━━━━━━━━\u001b[0m \u001b[32m409.5/409.5 kB\u001b[0m \u001b[31m24.7 MB/s\u001b[0m eta \u001b[36m0:00:00\u001b[0m\n",
            "\u001b[2K   \u001b[90m━━━━━━━━━━━━━━━━━━━━━━━━━━━━━━━━━━━━━━━━\u001b[0m \u001b[32m11.1/11.1 MB\u001b[0m \u001b[31m94.4 MB/s\u001b[0m eta \u001b[36m0:00:00\u001b[0m\n",
            "\u001b[2K   \u001b[90m━━━━━━━━━━━━━━━━━━━━━━━━━━━━━━━━━━━━━━━━\u001b[0m \u001b[32m3.1/3.1 MB\u001b[0m \u001b[31m80.1 MB/s\u001b[0m eta \u001b[36m0:00:00\u001b[0m\n",
            "\u001b[2K   \u001b[90m━━━━━━━━━━━━━━━━━━━━━━━━━━━━━━━━━━━━━━━━\u001b[0m \u001b[32m73.2/73.2 kB\u001b[0m \u001b[31m4.9 MB/s\u001b[0m eta \u001b[36m0:00:00\u001b[0m\n",
            "\u001b[2K   \u001b[90m━━━━━━━━━━━━━━━━━━━━━━━━━━━━━━━━━━━━━━━━\u001b[0m \u001b[32m63.8/63.8 kB\u001b[0m \u001b[31m3.9 MB/s\u001b[0m eta \u001b[36m0:00:00\u001b[0m\n",
            "\u001b[2K   \u001b[90m━━━━━━━━━━━━━━━━━━━━━━━━━━━━━━━━━━━━━━━━\u001b[0m \u001b[32m49.5/49.5 kB\u001b[0m \u001b[31m2.9 MB/s\u001b[0m eta \u001b[36m0:00:00\u001b[0m\n",
            "\u001b[2K   \u001b[90m━━━━━━━━━━━━━━━━━━━━━━━━━━━━━━━━━━━━━━━━\u001b[0m \u001b[32m130.2/130.2 kB\u001b[0m \u001b[31m8.5 MB/s\u001b[0m eta \u001b[36m0:00:00\u001b[0m\n",
            "\u001b[?25h"
          ]
        }
      ],
      "source": [
        "!pip install -U gradio langchain langchain-community pypdf langchain-google-genai langgraph --quiet"
      ]
    },
    {
      "cell_type": "code",
      "source": [
        "from google.colab import userdata\n",
        "import os\n",
        "os.environ['GOOGLE_API_KEY'] = userdata.get('GOOGLE_API_KEY')"
      ],
      "metadata": {
        "id": "-HBA17JNa5Ci"
      },
      "execution_count": null,
      "outputs": []
    },
    {
      "cell_type": "code",
      "source": [
        "from langchain.document_loaders import PyPDFLoader\n",
        "from langchain.chains.summarize import load_summarize_chain\n",
        "import gradio as gr"
      ],
      "metadata": {
        "id": "NSDIBBxsa8uQ"
      },
      "execution_count": null,
      "outputs": []
    },
    {
      "cell_type": "code",
      "source": [
        "from langchain_google_genai import ChatGoogleGenerativeAI\n",
        "\n",
        "llm = ChatGoogleGenerativeAI(\n",
        "      model=\"gemini-1.5-flash\",\n",
        "      temperature=0,\n",
        "      max_tokens=None,\n",
        "      timeout=None,\n",
        "      max_retries=2\n",
        ")"
      ],
      "metadata": {
        "id": "PlJy1t76bA9j"
      },
      "execution_count": null,
      "outputs": []
    },
    {
      "cell_type": "code",
      "source": [
        "def summarize_pdf(pdf_file_path):\n",
        "    loader = PyPDFLoader(pdf_file_path)\n",
        "    docs = loader.load_and_split()\n",
        "    chain = load_summarize_chain(llm, chain_type=\"refine\") #map_reduce\n",
        "    summary = chain.invoke(docs)\n",
        "\n",
        "    return summary['output_text']"
      ],
      "metadata": {
        "id": "EJGwSYkDbHPg"
      },
      "execution_count": null,
      "outputs": []
    },
    {
      "cell_type": "code",
      "source": [
        "summary = summarize_pdf(\"The Hare and the Tortoise.pdf\")"
      ],
      "metadata": {
        "id": "zX9Hwr_R7u9F"
      },
      "execution_count": null,
      "outputs": []
    },
    {
      "cell_type": "code",
      "source": [
        "css = \"\"\"\n",
        "h1 {\n",
        "    margin-top: 2rem;\n",
        "    font-size: 2rem;\n",
        "    text-align: center;\n",
        "}\n",
        "\"\"\"\n",
        "\n",
        "input_pdf_path = gr.File(label=\"Enter the PDF file path\")\n",
        "output_summary = gr.Text(label=\"Summary\")\n",
        "\n",
        "with gr.Blocks(title=\"Document Summarizer App\", css=css) as demo:\n",
        "    gr.Markdown(\"# Document Summarizer App\")\n",
        "\n",
        "    with gr.Tabs():\n",
        "        with gr.TabItem(\"PDF\"):\n",
        "            gr.Interface(fn=summarize_pdf,\n",
        "                        inputs=[input_pdf_path],\n",
        "                        outputs=[output_summary],\n",
        "                        flagging_mode='never',\n",
        "                        submit_btn='Generate')\n",
        "\n",
        "\n",
        "#demo.launch(server_name='localhost', server_port='8080')\n",
        "\n",
        "demo.launch()"
      ],
      "metadata": {
        "colab": {
          "base_uri": "https://localhost:8080/",
          "height": 646
        },
        "id": "8aKGnFh3tUg-",
        "outputId": "a50088df-b6e5-4ecd-942e-0c2895557aa4"
      },
      "execution_count": null,
      "outputs": [
        {
          "output_type": "stream",
          "name": "stdout",
          "text": [
            "Running Gradio in a Colab notebook requires sharing enabled. Automatically setting `share=True` (you can turn this off by setting `share=False` in `launch()` explicitly).\n",
            "\n",
            "Colab notebook detected. To show errors in colab notebook, set debug=True in launch()\n",
            "* Running on public URL: https://eaf241e47a604bb2f4.gradio.live\n",
            "\n",
            "This share link expires in 72 hours. For free permanent hosting and GPU upgrades, run `gradio deploy` from the terminal in the working directory to deploy to Hugging Face Spaces (https://huggingface.co/spaces)\n"
          ]
        },
        {
          "output_type": "display_data",
          "data": {
            "text/plain": [
              "<IPython.core.display.HTML object>"
            ],
            "text/html": [
              "<div><iframe src=\"https://eaf241e47a604bb2f4.gradio.live\" width=\"100%\" height=\"500\" allow=\"autoplay; camera; microphone; clipboard-read; clipboard-write;\" frameborder=\"0\" allowfullscreen></iframe></div>"
            ]
          },
          "metadata": {}
        },
        {
          "output_type": "execute_result",
          "data": {
            "text/plain": []
          },
          "metadata": {},
          "execution_count": 12
        }
      ]
    },
    {
      "cell_type": "code",
      "source": [
        "from langchain_core.documents import Document\n",
        "\n",
        "documents = [\n",
        "    Document(page_content=\"Apples are red\", metadata={\"title\": \"apple_book\"}),\n",
        "    Document(page_content=\"Blueberries are blue\", metadata={\"title\": \"blueberry_book\"}),\n",
        "    Document(page_content=\"Bananas are yelow\", metadata={\"title\": \"banana_book\"}),\n",
        "]"
      ],
      "metadata": {
        "id": "rLTYRJIRuFFu"
      },
      "execution_count": null,
      "outputs": []
    },
    {
      "cell_type": "code",
      "source": [
        "import operator\n",
        "from typing import List, Literal, TypedDict\n",
        "\n",
        "from langchain_core.output_parsers import StrOutputParser\n",
        "from langchain_core.prompts import ChatPromptTemplate\n",
        "from langchain_core.runnables import RunnableConfig\n",
        "from langgraph.constants import Send\n",
        "from langgraph.graph import END, START, StateGraph\n",
        "\n",
        "# Initial summary\n",
        "summarize_prompt = ChatPromptTemplate(\n",
        "    [\n",
        "        (\"human\", \"Write a concise summary of the following: {context}\"),\n",
        "    ]\n",
        ")\n",
        "initial_summary_chain = summarize_prompt | llm | StrOutputParser()\n",
        "\n",
        "# Refining the summary with new docs\n",
        "refine_template = \"\"\"\n",
        "Produce a final summary.\n",
        "\n",
        "Existing summary up to this point:\n",
        "{existing_answer}\n",
        "\n",
        "New context:\n",
        "------------\n",
        "{context}\n",
        "------------\n",
        "\n",
        "Given the new context, refine the original summary.\n",
        "\"\"\"\n",
        "refine_prompt = ChatPromptTemplate([(\"human\", refine_template)])\n",
        "\n",
        "refine_summary_chain = refine_prompt | llm | StrOutputParser()\n",
        "\n",
        "\n",
        "# We will define the state of the graph to hold the document\n",
        "# contents and summary. We also include an index to keep track\n",
        "# of our position in the sequence of documents.\n",
        "class State(TypedDict):\n",
        "    contents: List[str]\n",
        "    index: int\n",
        "    summary: str\n",
        "\n",
        "\n",
        "# We define functions for each node, including a node that generates\n",
        "# the initial summary:\n",
        "async def generate_initial_summary(state: State, config: RunnableConfig):\n",
        "    summary = await initial_summary_chain.ainvoke(\n",
        "        state[\"contents\"][0],\n",
        "        config,\n",
        "    )\n",
        "    return {\"summary\": summary, \"index\": 1}\n",
        "\n",
        "\n",
        "# And a node that refines the summary based on the next document\n",
        "async def refine_summary(state: State, config: RunnableConfig):\n",
        "    content = state[\"contents\"][state[\"index\"]]\n",
        "    summary = await refine_summary_chain.ainvoke(\n",
        "        {\"existing_answer\": state[\"summary\"], \"context\": content},\n",
        "        config,\n",
        "    )\n",
        "\n",
        "    return {\"summary\": summary, \"index\": state[\"index\"] + 1}\n",
        "\n",
        "\n",
        "# Here we implement logic to either exit the application or refine\n",
        "# the summary.\n",
        "def should_refine(state: State) -> Literal[\"refine_summary\", END]:\n",
        "    if state[\"index\"] >= len(state[\"contents\"]):\n",
        "        return END\n",
        "    else:\n",
        "        return \"refine_summary\"\n",
        "\n",
        "\n",
        "graph = StateGraph(State)\n",
        "graph.add_node(\"generate_initial_summary\", generate_initial_summary)\n",
        "graph.add_node(\"refine_summary\", refine_summary)\n",
        "\n",
        "graph.add_edge(START, \"generate_initial_summary\")\n",
        "graph.add_conditional_edges(\"generate_initial_summary\", should_refine)\n",
        "graph.add_conditional_edges(\"refine_summary\", should_refine)\n",
        "app = graph.compile()"
      ],
      "metadata": {
        "id": "9PVdbLwzuGbl"
      },
      "execution_count": null,
      "outputs": []
    },
    {
      "cell_type": "code",
      "source": [
        "from IPython.display import Image\n",
        "\n",
        "Image(app.get_graph().draw_mermaid_png())"
      ],
      "metadata": {
        "colab": {
          "base_uri": "https://localhost:8080/",
          "height": 400
        },
        "id": "IiE0Lb71uJp_",
        "outputId": "220d58ee-29ce-4ae0-d142-a3d75f5e6efc"
      },
      "execution_count": null,
      "outputs": [
        {
          "output_type": "execute_result",
          "data": {
            "image/png": "[encoded data removed]",
            "text/plain": [
              "<IPython.core.display.Image object>"
            ]
          },
          "metadata": {},
          "execution_count": 15
        }
      ]
    },
    {
      "cell_type": "code",
      "source": [
        "async for step in app.astream(\n",
        "    {\"contents\": [doc.page_content for doc in documents]},\n",
        "    stream_mode=\"values\",\n",
        "):\n",
        "    if summary := step.get(\"summary\"):\n",
        "        print(summary)"
      ],
      "metadata": {
        "colab": {
          "base_uri": "https://localhost:8080/"
        },
        "id": "eTp5aBcVuNxk",
        "outputId": "bd1ff57c-eeba-40d2-acae-a8e6a19647d9"
      },
      "execution_count": null,
      "outputs": [
        {
          "output_type": "stream",
          "name": "stdout",
          "text": [
            "Apples can be red.\n",
            "\n",
            "Apples can be red, and blueberries are blue.\n",
            "\n",
            "Apples are red, blueberries are blue, and bananas are yellow.\n",
            "\n"
          ]
        }
      ]
    }
  ]
}