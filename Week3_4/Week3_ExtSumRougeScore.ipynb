{
  "nbformat": 4,
  "nbformat_minor": 0,
  "metadata": {
    "colab": {
      "provenance": [],
      "gpuType": "T4"
    },
    "kernelspec": {
      "name": "python3",
      "display_name": "Python 3"
    },
    "language_info": {
      "name": "python"
    },
    "accelerator": "GPU"
  },
  "cells": [
    {
      "cell_type": "code",
      "source": [
        "!pip install --quiet datasets nltk sumy evaluate rouge-score"
      ],
      "metadata": {
        "id": "gTK0cBRD8jp2",
        "colab": {
          "base_uri": "https://localhost:8080/"
        },
        "outputId": "2ef74341-376a-40b4-f9f5-13a2fa29fe47"
      },
      "execution_count": 1,
      "outputs": [
        {
          "output_type": "stream",
          "name": "stdout",
          "text": [
            "  Preparing metadata (setup.py) ... \u001b[?25l\u001b[?25hdone\n",
            "  Preparing metadata (setup.py) ... \u001b[?25l\u001b[?25hdone\n",
            "  Preparing metadata (setup.py) ... \u001b[?25l\u001b[?25hdone\n",
            "\u001b[2K   \u001b[90m━━━━━━━━━━━━━━━━━━━━━━━━━━━━━━━━━━━━━━━━\u001b[0m \u001b[32m480.6/480.6 kB\u001b[0m \u001b[31m16.5 MB/s\u001b[0m eta \u001b[36m0:00:00\u001b[0m\n",
            "\u001b[2K   \u001b[90m━━━━━━━━━━━━━━━━━━━━━━━━━━━━━━━━━━━━━━━━\u001b[0m \u001b[32m97.3/97.3 kB\u001b[0m \u001b[31m7.1 MB/s\u001b[0m eta \u001b[36m0:00:00\u001b[0m\n",
            "\u001b[2K   \u001b[90m━━━━━━━━━━━━━━━━━━━━━━━━━━━━━━━━━━━━━━━━\u001b[0m \u001b[32m84.0/84.0 kB\u001b[0m \u001b[31m4.2 MB/s\u001b[0m eta \u001b[36m0:00:00\u001b[0m\n",
            "\u001b[2K   \u001b[90m━━━━━━━━━━━━━━━━━━━━━━━━━━━━━━━━━━━━━━━━\u001b[0m \u001b[32m116.3/116.3 kB\u001b[0m \u001b[31m7.5 MB/s\u001b[0m eta \u001b[36m0:00:00\u001b[0m\n",
            "\u001b[2K   \u001b[90m━━━━━━━━━━━━━━━━━━━━━━━━━━━━━━━━━━━━━━━━\u001b[0m \u001b[32m179.3/179.3 kB\u001b[0m \u001b[31m9.2 MB/s\u001b[0m eta \u001b[36m0:00:00\u001b[0m\n",
            "\u001b[2K   \u001b[90m━━━━━━━━━━━━━━━━━━━━━━━━━━━━━━━━━━━━━━━━\u001b[0m \u001b[32m134.8/134.8 kB\u001b[0m \u001b[31m7.8 MB/s\u001b[0m eta \u001b[36m0:00:00\u001b[0m\n",
            "\u001b[2K   \u001b[90m━━━━━━━━━━━━━━━━━━━━━━━━━━━━━━━━━━━━━━━━\u001b[0m \u001b[32m6.3/6.3 MB\u001b[0m \u001b[31m29.7 MB/s\u001b[0m eta \u001b[36m0:00:00\u001b[0m\n",
            "\u001b[2K   \u001b[90m━━━━━━━━━━━━━━━━━━━━━━━━━━━━━━━━━━━━━━━━\u001b[0m \u001b[32m194.1/194.1 kB\u001b[0m \u001b[31m10.5 MB/s\u001b[0m eta \u001b[36m0:00:00\u001b[0m\n",
            "\u001b[?25h  Building wheel for rouge-score (setup.py) ... \u001b[?25l\u001b[?25hdone\n",
            "  Building wheel for breadability (setup.py) ... \u001b[?25l\u001b[?25hdone\n",
            "  Building wheel for docopt (setup.py) ... \u001b[?25l\u001b[?25hdone\n",
            "\u001b[31mERROR: pip's dependency resolver does not currently take into account all the packages that are installed. This behaviour is the source of the following dependency conflicts.\n",
            "gcsfs 2024.10.0 requires fsspec==2024.10.0, but you have fsspec 2024.9.0 which is incompatible.\u001b[0m\u001b[31m\n",
            "\u001b[0m"
          ]
        }
      ]
    },
    {
      "cell_type": "markdown",
      "source": [
        "**Frequency Based Method with rouge score**"
      ],
      "metadata": {
        "id": "cH3vCA3f-p2Y"
      }
    },
    {
      "cell_type": "code",
      "source": [
        "import nltk\n",
        "from nltk.corpus import stopwords\n",
        "from nltk.tokenize import word_tokenize, sent_tokenize\n",
        "import string\n",
        "from datasets import load_dataset\n",
        "import evaluate\n",
        "\n",
        "# Download necessary NLTK data\n",
        "nltk.download('punkt')\n",
        "nltk.download('stopwords')\n",
        "nltk.download('punkt_tab')\n",
        "\n",
        "# Load the ROUGE metric\n",
        "rouge = evaluate.load('rouge')\n",
        "\n",
        "# Frequency-based summarization function\n",
        "def frequency_based_summarization(text):\n",
        "    words = word_tokenize(text.lower())\n",
        "    sentences = sent_tokenize(text)\n",
        "\n",
        "    stop_words = set(stopwords.words(\"english\"))\n",
        "    words = [word for word in words if word not in stop_words and word not in string.punctuation]\n",
        "\n",
        "    word_freq = {}\n",
        "    for word in words:\n",
        "        if word in word_freq:\n",
        "            word_freq[word] += 1\n",
        "        else:\n",
        "            word_freq[word] = 1\n",
        "\n",
        "    max_freq = max(word_freq.values())\n",
        "    for word in word_freq:\n",
        "        word_freq[word] = word_freq[word] / max_freq\n",
        "\n",
        "    sentence_scores = {}\n",
        "    for sentence in sentences:\n",
        "        sentence_words = word_tokenize(sentence.lower())\n",
        "        for word in sentence_words:\n",
        "            if word in word_freq:\n",
        "                if sentence not in sentence_scores:\n",
        "                    sentence_scores[sentence] = word_freq[word]\n",
        "                else:\n",
        "                    sentence_scores[sentence] += word_freq[word]\n",
        "\n",
        "    sorted_sentences = sorted(sentence_scores, key=sentence_scores.get, reverse=True)\n",
        "    summary_sentences = sorted_sentences[:3]\n",
        "\n",
        "    summary = ' '.join(summary_sentences)\n",
        "    return summary\n",
        "\n",
        "# Function to compute ROUGE score\n",
        "def compute_rouge(predictions, references):\n",
        "    rouge_output = rouge.compute(predictions=predictions, references=references, use_stemmer=True)\n",
        "    return rouge_output\n",
        "\n",
        "# Load CNN/Daily Mail dataset\n",
        "cnn_dataset = load_dataset('cnn_dailymail', '3.0.0', split='test[:20%]')\n",
        "\n",
        "# Select a subset of the dataset for summarization\n",
        "source_texts = cnn_dataset['article'][:100]\n",
        "reference_summaries = cnn_dataset['highlights'][:100]\n",
        "\n",
        "# Generate summaries using the frequency-based method\n",
        "frequency_summaries = [frequency_based_summarization(text) for text in source_texts]\n",
        "\n",
        "# Calculate ROUGE scores\n",
        "rouge_scores = compute_rouge(frequency_summaries, reference_summaries)\n",
        "\n",
        "# Print one example summary and ROUGE scores\n",
        "print(\"Original Text:\")\n",
        "print(source_texts[0])\n",
        "\n",
        "print(\"\\nFrequency-based Summary:\")\n",
        "print(frequency_summaries[0])\n",
        "\n",
        "print(\"\\nReference Summary:\")\n",
        "print(reference_summaries[0])\n",
        "\n",
        "print(\"\\nROUGE Scores:\")\n",
        "print(rouge_scores)\n"
      ],
      "metadata": {
        "id": "JsrVcwqx49wk",
        "colab": {
          "base_uri": "https://localhost:8080/"
        },
        "outputId": "99962096-d5cb-4965-a792-991ce192d5fe"
      },
      "execution_count": 10,
      "outputs": [
        {
          "output_type": "stream",
          "name": "stderr",
          "text": [
            "[nltk_data] Downloading package punkt to /root/nltk_data...\n",
            "[nltk_data]   Package punkt is already up-to-date!\n",
            "[nltk_data] Downloading package stopwords to /root/nltk_data...\n",
            "[nltk_data]   Package stopwords is already up-to-date!\n",
            "[nltk_data] Downloading package punkt_tab to /root/nltk_data...\n",
            "[nltk_data]   Package punkt_tab is already up-to-date!\n"
          ]
        },
        {
          "output_type": "stream",
          "name": "stdout",
          "text": [
            "Original Text:\n",
            "(CNN)The Palestinian Authority officially became the 123rd member of the International Criminal Court on Wednesday, a step that gives the court jurisdiction over alleged crimes in Palestinian territories. The formal accession was marked with a ceremony at The Hague, in the Netherlands, where the court is based. The Palestinians signed the ICC's founding Rome Statute in January, when they also accepted its jurisdiction over alleged crimes committed \"in the occupied Palestinian territory, including East Jerusalem, since June 13, 2014.\" Later that month, the ICC opened a preliminary examination into the situation in Palestinian territories, paving the way for possible war crimes investigations against Israelis. As members of the court, Palestinians may be subject to counter-charges as well. Israel and the United States, neither of which is an ICC member, opposed the Palestinians' efforts to join the body. But Palestinian Foreign Minister Riad al-Malki, speaking at Wednesday's ceremony, said it was a move toward greater justice. \"As Palestine formally becomes a State Party to the Rome Statute today, the world is also a step closer to ending a long era of impunity and injustice,\" he said, according to an ICC news release. \"Indeed, today brings us closer to our shared goals of justice and peace.\" Judge Kuniko Ozaki, a vice president of the ICC, said acceding to the treaty was just the first step for the Palestinians. \"As the Rome Statute today enters into force for the State of Palestine, Palestine acquires all the rights as well as responsibilities that come with being a State Party to the Statute. These are substantive commitments, which cannot be taken lightly,\" she said. Rights group Human Rights Watch welcomed the development. \"Governments seeking to penalize Palestine for joining the ICC should immediately end their pressure, and countries that support universal acceptance of the court's treaty should speak out to welcome its membership,\" said Balkees Jarrah, international justice counsel for the group. \"What's objectionable is the attempts to undermine international justice, not Palestine's decision to join a treaty to which over 100 countries around the world are members.\" In January, when the preliminary ICC examination was opened, Israeli Prime Minister Benjamin Netanyahu described it as an outrage, saying the court was overstepping its boundaries. The United States also said it \"strongly\" disagreed with the court's decision. \"As we have said repeatedly, we do not believe that Palestine is a state and therefore we do not believe that it is eligible to join the ICC,\" the State Department said in a statement. It urged the warring sides to resolve their differences through direct negotiations. \"We will continue to oppose actions against Israel at the ICC as counterproductive to the cause of peace,\" it said. But the ICC begs to differ with the definition of a state for its purposes and refers to the territories as \"Palestine.\" While a preliminary examination is not a formal investigation, it allows the court to review evidence and determine whether to investigate suspects on both sides. Prosecutor Fatou Bensouda said her office would \"conduct its analysis in full independence and impartiality.\" The war between Israel and Hamas militants in Gaza last summer left more than 2,000 people dead. The inquiry will include alleged war crimes committed since June. The International Criminal Court was set up in 2002 to prosecute genocide, crimes against humanity and war crimes. CNN's Vasco Cotovio, Kareem Khadder and Faith Karimi contributed to this report.\n",
            "\n",
            "Frequency-based Summary:\n",
            "\"Governments seeking to penalize Palestine for joining the ICC should immediately end their pressure, and countries that support universal acceptance of the court's treaty should speak out to welcome its membership,\" said Balkees Jarrah, international justice counsel for the group. \"As Palestine formally becomes a State Party to the Rome Statute today, the world is also a step closer to ending a long era of impunity and injustice,\" he said, according to an ICC news release. The Palestinians signed the ICC's founding Rome Statute in January, when they also accepted its jurisdiction over alleged crimes committed \"in the occupied Palestinian territory, including East Jerusalem, since June 13, 2014.\"\n",
            "\n",
            "Reference Summary:\n",
            "Membership gives the ICC jurisdiction over alleged crimes committed in Palestinian territories since last June .\n",
            "Israel and the United States opposed the move, which could open the door to war crimes investigations against Israelis .\n",
            "\n",
            "ROUGE Scores:\n",
            "{'rouge1': 0.25412301813944593, 'rouge2': 0.08513178996164976, 'rougeL': 0.16675548341782787, 'rougeLsum': 0.2035699393672668}\n"
          ]
        }
      ]
    },
    {
      "cell_type": "markdown",
      "source": [
        "**Luhn Method Rouge Score**"
      ],
      "metadata": {
        "id": "_zWzNuMB-05n"
      }
    },
    {
      "cell_type": "code",
      "source": [
        "# Import necessary libraries\n",
        "from sumy.parsers.plaintext import PlaintextParser\n",
        "from sumy.nlp.tokenizers import Tokenizer\n",
        "from sumy.summarizers.luhn import LuhnSummarizer\n",
        "from datasets import load_dataset\n",
        "import evaluate\n",
        "\n",
        "rouge = evaluate.load('rouge')\n",
        "\n",
        "# Luhn summarization method\n",
        "def luhn_method(text, sentences_count=2):\n",
        "    parser = PlaintextParser.from_string(text, Tokenizer(\"english\"))\n",
        "    summarizer_luhn = LuhnSummarizer()\n",
        "\n",
        "    summary = summarizer_luhn(parser.document, sentences_count)\n",
        "    summary_sentences = [str(sentence) for sentence in summary]\n",
        "\n",
        "    return ' '.join(summary_sentences)\n",
        "\n",
        "# Function to compute ROUGE score\n",
        "def compute_rouge(predictions, references):\n",
        "    rouge_output = rouge.compute(predictions=predictions, references=references, use_stemmer=True)\n",
        "    return rouge_output\n",
        "\n",
        "dataset = load_dataset('cnn_dailymail', '3.0.0', split='test[:20%]')\n",
        "\n",
        "source_texts = dataset['article'][:100]\n",
        "reference_summaries = dataset['highlights'][:100]\n",
        "\n",
        "luhn_summaries = [luhn_method(text) for text in source_texts]\n",
        "\n",
        "rouge_scores = compute_rouge(luhn_summaries, reference_summaries)\n",
        "\n",
        "print(\"Luhn Summary:\")\n",
        "print(luhn_summaries[0])\n",
        "\n",
        "print(\"\\nReference Summary:\")\n",
        "print(reference_summaries[0])\n",
        "\n",
        "print(\"\\nROUGE Scores:\")\n",
        "print(rouge_scores)\n"
      ],
      "metadata": {
        "colab": {
          "base_uri": "https://localhost:8080/"
        },
        "id": "TOR35YQq5Q1r",
        "outputId": "1cc7fb65-ec95-4d70-bbae-b2fddc56d1e9"
      },
      "execution_count": 4,
      "outputs": [
        {
          "output_type": "stream",
          "name": "stdout",
          "text": [
            "Luhn Summary:\n",
            "(CNN)The Palestinian Authority officially became the 123rd member of the International Criminal Court on Wednesday, a step that gives the court jurisdiction over alleged crimes in Palestinian territories. \"As we have said repeatedly, we do not believe that Palestine is a state and therefore we do not believe that it is eligible to join the ICC,\" the State Department said in a statement.\n",
            "\n",
            "Reference Summary:\n",
            "Membership gives the ICC jurisdiction over alleged crimes committed in Palestinian territories since last June .\n",
            "Israel and the United States opposed the move, which could open the door to war crimes investigations against Israelis .\n",
            "\n",
            "ROUGE Scores:\n",
            "{'rouge1': 0.2720598535800665, 'rouge2': 0.08883504209760014, 'rougeL': 0.18713133013118516, 'rougeLsum': 0.21829016884073468}\n"
          ]
        }
      ]
    },
    {
      "cell_type": "markdown",
      "source": [
        "**LSA method Rouge Score**"
      ],
      "metadata": {
        "id": "o_VrNHEd_VJG"
      }
    },
    {
      "cell_type": "code",
      "source": [
        "from sumy.parsers.plaintext import PlaintextParser\n",
        "from sumy.nlp.tokenizers import Tokenizer\n",
        "from sumy.summarizers.lsa import LsaSummarizer\n",
        "from datasets import load_dataset\n",
        "import nltk\n",
        "import evaluate\n",
        "\n",
        "nltk.download('punkt')\n",
        "\n",
        "rouge = evaluate.load('rouge')\n",
        "\n",
        "# Function for LSA-based summarization\n",
        "def lsa_summarization(text, sentence_count=2):\n",
        "    # Create a PlaintextParser and tokenize the text\n",
        "    parser = PlaintextParser.from_string(text, Tokenizer(\"english\"))\n",
        "\n",
        "    summarizer = LsaSummarizer()\n",
        "\n",
        "    summary = summarizer(parser.document, sentence_count)\n",
        "\n",
        "    summary_sentences = [str(sentence) for sentence in summary]\n",
        "\n",
        "    final_summary = \" \".join(summary_sentences)\n",
        "\n",
        "    return final_summary\n",
        "\n",
        "# Function to compute ROUGE score\n",
        "def compute_rouge(predictions, references):\n",
        "    rouge_output = rouge.compute(predictions=predictions, references=references, use_stemmer=True)\n",
        "    return rouge_output\n",
        "\n",
        "cnn_dataset = load_dataset('cnn_dailymail', '3.0.0', split='test[:20%]')\n",
        "\n",
        "source_texts = cnn_dataset['article'][:100]\n",
        "reference_summaries = cnn_dataset['highlights'][:100]\n",
        "\n",
        "lsa_summaries = [lsa_summarization(text, sentence_count=3) for text in source_texts]\n",
        "\n",
        "rouge_scores = compute_rouge(lsa_summaries, reference_summaries)\n",
        "\n",
        "print(\"source Text:\")\n",
        "print(source_texts[0])\n",
        "\n",
        "print(\"LSA Summary:\")\n",
        "print(lsa_summaries[0])\n",
        "\n",
        "print(\"\\nReference Summary:\")\n",
        "print(reference_summaries[0])\n",
        "print(\"\\nROUGE Scores:\")\n",
        "print(rouge_scores)"
      ],
      "metadata": {
        "colab": {
          "base_uri": "https://localhost:8080/"
        },
        "id": "jDgtUE_P4tcb",
        "outputId": "a1dbdfe4-8f05-499c-f924-85c0e7ef1311"
      },
      "execution_count": 9,
      "outputs": [
        {
          "output_type": "stream",
          "name": "stderr",
          "text": [
            "[nltk_data] Downloading package punkt to /root/nltk_data...\n",
            "[nltk_data]   Package punkt is already up-to-date!\n"
          ]
        },
        {
          "output_type": "stream",
          "name": "stdout",
          "text": [
            "source Text:\n",
            "(CNN)The Palestinian Authority officially became the 123rd member of the International Criminal Court on Wednesday, a step that gives the court jurisdiction over alleged crimes in Palestinian territories. The formal accession was marked with a ceremony at The Hague, in the Netherlands, where the court is based. The Palestinians signed the ICC's founding Rome Statute in January, when they also accepted its jurisdiction over alleged crimes committed \"in the occupied Palestinian territory, including East Jerusalem, since June 13, 2014.\" Later that month, the ICC opened a preliminary examination into the situation in Palestinian territories, paving the way for possible war crimes investigations against Israelis. As members of the court, Palestinians may be subject to counter-charges as well. Israel and the United States, neither of which is an ICC member, opposed the Palestinians' efforts to join the body. But Palestinian Foreign Minister Riad al-Malki, speaking at Wednesday's ceremony, said it was a move toward greater justice. \"As Palestine formally becomes a State Party to the Rome Statute today, the world is also a step closer to ending a long era of impunity and injustice,\" he said, according to an ICC news release. \"Indeed, today brings us closer to our shared goals of justice and peace.\" Judge Kuniko Ozaki, a vice president of the ICC, said acceding to the treaty was just the first step for the Palestinians. \"As the Rome Statute today enters into force for the State of Palestine, Palestine acquires all the rights as well as responsibilities that come with being a State Party to the Statute. These are substantive commitments, which cannot be taken lightly,\" she said. Rights group Human Rights Watch welcomed the development. \"Governments seeking to penalize Palestine for joining the ICC should immediately end their pressure, and countries that support universal acceptance of the court's treaty should speak out to welcome its membership,\" said Balkees Jarrah, international justice counsel for the group. \"What's objectionable is the attempts to undermine international justice, not Palestine's decision to join a treaty to which over 100 countries around the world are members.\" In January, when the preliminary ICC examination was opened, Israeli Prime Minister Benjamin Netanyahu described it as an outrage, saying the court was overstepping its boundaries. The United States also said it \"strongly\" disagreed with the court's decision. \"As we have said repeatedly, we do not believe that Palestine is a state and therefore we do not believe that it is eligible to join the ICC,\" the State Department said in a statement. It urged the warring sides to resolve their differences through direct negotiations. \"We will continue to oppose actions against Israel at the ICC as counterproductive to the cause of peace,\" it said. But the ICC begs to differ with the definition of a state for its purposes and refers to the territories as \"Palestine.\" While a preliminary examination is not a formal investigation, it allows the court to review evidence and determine whether to investigate suspects on both sides. Prosecutor Fatou Bensouda said her office would \"conduct its analysis in full independence and impartiality.\" The war between Israel and Hamas militants in Gaza last summer left more than 2,000 people dead. The inquiry will include alleged war crimes committed since June. The International Criminal Court was set up in 2002 to prosecute genocide, crimes against humanity and war crimes. CNN's Vasco Cotovio, Kareem Khadder and Faith Karimi contributed to this report.\n",
            "LSA Summary:\n",
            "But Palestinian Foreign Minister Riad al-Malki, speaking at Wednesday's ceremony, said it was a move toward greater justice. Prosecutor Fatou Bensouda said her office would \"conduct its analysis in full independence and impartiality.\" The war between Israel and Hamas militants in Gaza last summer left more than 2,000 people dead.\n",
            "\n",
            "Reference Summary:\n",
            "Membership gives the ICC jurisdiction over alleged crimes committed in Palestinian territories since last June .\n",
            "Israel and the United States opposed the move, which could open the door to war crimes investigations against Israelis .\n",
            "\n",
            "ROUGE Scores:\n",
            "{'rouge1': 0.24759054054285068, 'rouge2': 0.06460059469397281, 'rougeL': 0.16042315632242016, 'rougeLsum': 0.19378735364720662}\n"
          ]
        }
      ]
    },
    {
      "cell_type": "markdown",
      "source": [
        "**Lexrank Rouge Score**"
      ],
      "metadata": {
        "id": "f0_8AQqN1_yX"
      }
    },
    {
      "cell_type": "code",
      "source": [
        "# Import necessary libraries\n",
        "from sumy.parsers.plaintext import PlaintextParser\n",
        "from sumy.nlp.tokenizers import Tokenizer\n",
        "from sumy.summarizers.lex_rank import LexRankSummarizer\n",
        "from datasets import load_dataset\n",
        "import evaluate\n",
        "\n",
        "# Load the ROUGE metric\n",
        "rouge = evaluate.load('rouge')\n",
        "\n",
        "# LexRank summarization method\n",
        "def lexrank_method(text, sentences_count=2):\n",
        "    parser = PlaintextParser.from_string(text, Tokenizer(\"english\"))\n",
        "    summarizer_lexrank = LexRankSummarizer()\n",
        "\n",
        "    summary = summarizer_lexrank(parser.document, sentences_count)\n",
        "    summary_sentences = [str(sentence) for sentence in summary]\n",
        "\n",
        "    return ' '.join(summary_sentences)\n",
        "\n",
        "# Function to compute ROUGE score\n",
        "def compute_rouge(predictions, references):\n",
        "    rouge_output = rouge.compute(predictions=predictions, references=references, use_stemmer=True)\n",
        "    return rouge_output\n",
        "\n",
        "# Load CNN/Daily Mail dataset\n",
        "cnn_dataset = load_dataset('cnn_dailymail', '3.0.0', split='test[:20%]')\n",
        "\n",
        "# Select a subset of the dataset for summarization\n",
        "source_texts = cnn_dataset['article'][:100]\n",
        "reference_summaries = cnn_dataset['highlights'][:100]\n",
        "\n",
        "# Generate summaries using the LexRank method\n",
        "lexrank_summaries = [lexrank_method(text) for text in source_texts]\n",
        "\n",
        "# Calculate ROUGE scores\n",
        "rouge_scores = compute_rouge(lexrank_summaries, reference_summaries)\n",
        "\n",
        "# Print one example summary and ROUGE scores\n",
        "print(\"Original Text:\")\n",
        "print(source_texts[0])\n",
        "\n",
        "print(\"\\nLexRank Summary:\")\n",
        "print(lexrank_summaries[0])\n",
        "\n",
        "print(\"\\nReference Summary:\")\n",
        "print(reference_summaries[0])\n",
        "\n",
        "print(\"\\nROUGE Scores:\")\n",
        "print(rouge_scores)\n"
      ],
      "metadata": {
        "colab": {
          "base_uri": "https://localhost:8080/"
        },
        "id": "kDg-N-yk2JUL",
        "outputId": "84576d92-d9ec-47ab-b9d6-1f7b9da75d6d"
      },
      "execution_count": 11,
      "outputs": [
        {
          "output_type": "stream",
          "name": "stdout",
          "text": [
            "Original Text:\n",
            "(CNN)The Palestinian Authority officially became the 123rd member of the International Criminal Court on Wednesday, a step that gives the court jurisdiction over alleged crimes in Palestinian territories. The formal accession was marked with a ceremony at The Hague, in the Netherlands, where the court is based. The Palestinians signed the ICC's founding Rome Statute in January, when they also accepted its jurisdiction over alleged crimes committed \"in the occupied Palestinian territory, including East Jerusalem, since June 13, 2014.\" Later that month, the ICC opened a preliminary examination into the situation in Palestinian territories, paving the way for possible war crimes investigations against Israelis. As members of the court, Palestinians may be subject to counter-charges as well. Israel and the United States, neither of which is an ICC member, opposed the Palestinians' efforts to join the body. But Palestinian Foreign Minister Riad al-Malki, speaking at Wednesday's ceremony, said it was a move toward greater justice. \"As Palestine formally becomes a State Party to the Rome Statute today, the world is also a step closer to ending a long era of impunity and injustice,\" he said, according to an ICC news release. \"Indeed, today brings us closer to our shared goals of justice and peace.\" Judge Kuniko Ozaki, a vice president of the ICC, said acceding to the treaty was just the first step for the Palestinians. \"As the Rome Statute today enters into force for the State of Palestine, Palestine acquires all the rights as well as responsibilities that come with being a State Party to the Statute. These are substantive commitments, which cannot be taken lightly,\" she said. Rights group Human Rights Watch welcomed the development. \"Governments seeking to penalize Palestine for joining the ICC should immediately end their pressure, and countries that support universal acceptance of the court's treaty should speak out to welcome its membership,\" said Balkees Jarrah, international justice counsel for the group. \"What's objectionable is the attempts to undermine international justice, not Palestine's decision to join a treaty to which over 100 countries around the world are members.\" In January, when the preliminary ICC examination was opened, Israeli Prime Minister Benjamin Netanyahu described it as an outrage, saying the court was overstepping its boundaries. The United States also said it \"strongly\" disagreed with the court's decision. \"As we have said repeatedly, we do not believe that Palestine is a state and therefore we do not believe that it is eligible to join the ICC,\" the State Department said in a statement. It urged the warring sides to resolve their differences through direct negotiations. \"We will continue to oppose actions against Israel at the ICC as counterproductive to the cause of peace,\" it said. But the ICC begs to differ with the definition of a state for its purposes and refers to the territories as \"Palestine.\" While a preliminary examination is not a formal investigation, it allows the court to review evidence and determine whether to investigate suspects on both sides. Prosecutor Fatou Bensouda said her office would \"conduct its analysis in full independence and impartiality.\" The war between Israel and Hamas militants in Gaza last summer left more than 2,000 people dead. The inquiry will include alleged war crimes committed since June. The International Criminal Court was set up in 2002 to prosecute genocide, crimes against humanity and war crimes. CNN's Vasco Cotovio, Kareem Khadder and Faith Karimi contributed to this report.\n",
            "\n",
            "LexRank Summary:\n",
            "\"As the Rome Statute today enters into force for the State of Palestine, Palestine acquires all the rights as well as responsibilities that come with being a State Party to the Statute. \"What's objectionable is the attempts to undermine international justice, not Palestine's decision to join a treaty to which over 100 countries around the world are members.\"\n",
            "\n",
            "Reference Summary:\n",
            "Membership gives the ICC jurisdiction over alleged crimes committed in Palestinian territories since last June .\n",
            "Israel and the United States opposed the move, which could open the door to war crimes investigations against Israelis .\n",
            "\n",
            "ROUGE Scores:\n",
            "{'rouge1': 0.2828977836812845, 'rouge2': 0.08340101348781731, 'rougeL': 0.19188839127679214, 'rougeLsum': 0.22744590384829055}\n"
          ]
        }
      ]
    }
  ]
}